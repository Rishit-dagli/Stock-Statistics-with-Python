{
 "cells": [
  {
   "cell_type": "markdown",
   "metadata": {},
   "source": [
    "# Stock Statistics with Python"
   ]
  },
  {
   "cell_type": "markdown",
   "metadata": {},
   "source": [
    "The dataset can be found [here](https://www.kaggle.com/rohanrao/nifty50-stock-market-data)"
   ]
  },
  {
   "cell_type": "code",
   "execution_count": 2,
   "metadata": {},
   "outputs": [],
   "source": [
    "import pandas as pd\n",
    "import numpy as np\n",
    "import matplotlib.pyplot as plt\n",
    "import seaborn as sns"
   ]
  },
  {
   "cell_type": "code",
   "execution_count": 3,
   "metadata": {},
   "outputs": [],
   "source": [
    "BA = pd.read_csv(\"http://datasets.rishit.tech/BAJAJ-AUTO.csv\")"
   ]
  },
  {
   "cell_type": "code",
   "execution_count": 4,
   "metadata": {},
   "outputs": [
    {
     "data": {
      "text/html": [
       "<div>\n",
       "<style scoped>\n",
       "    .dataframe tbody tr th:only-of-type {\n",
       "        vertical-align: middle;\n",
       "    }\n",
       "\n",
       "    .dataframe tbody tr th {\n",
       "        vertical-align: top;\n",
       "    }\n",
       "\n",
       "    .dataframe thead th {\n",
       "        text-align: right;\n",
       "    }\n",
       "</style>\n",
       "<table border=\"1\" class=\"dataframe\">\n",
       "  <thead>\n",
       "    <tr style=\"text-align: right;\">\n",
       "      <th></th>\n",
       "      <th>Date</th>\n",
       "      <th>Symbol</th>\n",
       "      <th>Series</th>\n",
       "      <th>Prev Close</th>\n",
       "      <th>Open</th>\n",
       "      <th>High</th>\n",
       "      <th>Low</th>\n",
       "      <th>Last</th>\n",
       "      <th>Close</th>\n",
       "      <th>VWAP</th>\n",
       "      <th>Volume</th>\n",
       "      <th>Turnover</th>\n",
       "      <th>Trades</th>\n",
       "      <th>Deliverable Volume</th>\n",
       "      <th>%Deliverble</th>\n",
       "    </tr>\n",
       "  </thead>\n",
       "  <tbody>\n",
       "    <tr>\n",
       "      <th>0</th>\n",
       "      <td>2008-05-26</td>\n",
       "      <td>BAJAJ-AUTO</td>\n",
       "      <td>EQ</td>\n",
       "      <td>2101.05</td>\n",
       "      <td>898.00</td>\n",
       "      <td>898.00</td>\n",
       "      <td>551.35</td>\n",
       "      <td>600.25</td>\n",
       "      <td>604.75</td>\n",
       "      <td>624.61</td>\n",
       "      <td>3972485</td>\n",
       "      <td>2.481245e+14</td>\n",
       "      <td>NaN</td>\n",
       "      <td>1202933</td>\n",
       "      <td>0.3028</td>\n",
       "    </tr>\n",
       "    <tr>\n",
       "      <th>1</th>\n",
       "      <td>2008-05-27</td>\n",
       "      <td>BAJAJ-AUTO</td>\n",
       "      <td>EQ</td>\n",
       "      <td>604.75</td>\n",
       "      <td>624.70</td>\n",
       "      <td>639.00</td>\n",
       "      <td>580.30</td>\n",
       "      <td>595.50</td>\n",
       "      <td>593.15</td>\n",
       "      <td>606.43</td>\n",
       "      <td>1751063</td>\n",
       "      <td>1.061901e+14</td>\n",
       "      <td>NaN</td>\n",
       "      <td>369389</td>\n",
       "      <td>0.2110</td>\n",
       "    </tr>\n",
       "    <tr>\n",
       "      <th>2</th>\n",
       "      <td>2008-05-28</td>\n",
       "      <td>BAJAJ-AUTO</td>\n",
       "      <td>EQ</td>\n",
       "      <td>593.15</td>\n",
       "      <td>561.65</td>\n",
       "      <td>621.90</td>\n",
       "      <td>561.65</td>\n",
       "      <td>605.10</td>\n",
       "      <td>608.15</td>\n",
       "      <td>608.75</td>\n",
       "      <td>1652355</td>\n",
       "      <td>1.005877e+14</td>\n",
       "      <td>NaN</td>\n",
       "      <td>898602</td>\n",
       "      <td>0.5438</td>\n",
       "    </tr>\n",
       "    <tr>\n",
       "      <th>3</th>\n",
       "      <td>2008-05-29</td>\n",
       "      <td>BAJAJ-AUTO</td>\n",
       "      <td>EQ</td>\n",
       "      <td>608.15</td>\n",
       "      <td>619.40</td>\n",
       "      <td>619.40</td>\n",
       "      <td>576.00</td>\n",
       "      <td>600.00</td>\n",
       "      <td>599.45</td>\n",
       "      <td>600.98</td>\n",
       "      <td>669269</td>\n",
       "      <td>4.022165e+13</td>\n",
       "      <td>NaN</td>\n",
       "      <td>449951</td>\n",
       "      <td>0.6723</td>\n",
       "    </tr>\n",
       "    <tr>\n",
       "      <th>4</th>\n",
       "      <td>2008-05-30</td>\n",
       "      <td>BAJAJ-AUTO</td>\n",
       "      <td>EQ</td>\n",
       "      <td>599.45</td>\n",
       "      <td>605.40</td>\n",
       "      <td>607.00</td>\n",
       "      <td>538.00</td>\n",
       "      <td>576.25</td>\n",
       "      <td>571.70</td>\n",
       "      <td>565.55</td>\n",
       "      <td>1262117</td>\n",
       "      <td>7.137937e+13</td>\n",
       "      <td>NaN</td>\n",
       "      <td>936432</td>\n",
       "      <td>0.7420</td>\n",
       "    </tr>\n",
       "    <tr>\n",
       "      <th>5</th>\n",
       "      <td>2008-06-02</td>\n",
       "      <td>BAJAJ-AUTO</td>\n",
       "      <td>EQ</td>\n",
       "      <td>571.70</td>\n",
       "      <td>605.50</td>\n",
       "      <td>615.00</td>\n",
       "      <td>570.70</td>\n",
       "      <td>573.00</td>\n",
       "      <td>580.80</td>\n",
       "      <td>598.30</td>\n",
       "      <td>206640</td>\n",
       "      <td>1.236326e+13</td>\n",
       "      <td>NaN</td>\n",
       "      <td>69415</td>\n",
       "      <td>0.3359</td>\n",
       "    </tr>\n",
       "    <tr>\n",
       "      <th>6</th>\n",
       "      <td>2008-06-03</td>\n",
       "      <td>BAJAJ-AUTO</td>\n",
       "      <td>EQ</td>\n",
       "      <td>580.80</td>\n",
       "      <td>596.00</td>\n",
       "      <td>602.00</td>\n",
       "      <td>555.15</td>\n",
       "      <td>577.00</td>\n",
       "      <td>579.70</td>\n",
       "      <td>575.83</td>\n",
       "      <td>157283</td>\n",
       "      <td>9.056802e+12</td>\n",
       "      <td>NaN</td>\n",
       "      <td>106984</td>\n",
       "      <td>0.6802</td>\n",
       "    </tr>\n",
       "    <tr>\n",
       "      <th>7</th>\n",
       "      <td>2008-06-04</td>\n",
       "      <td>BAJAJ-AUTO</td>\n",
       "      <td>EQ</td>\n",
       "      <td>579.70</td>\n",
       "      <td>597.85</td>\n",
       "      <td>597.85</td>\n",
       "      <td>547.50</td>\n",
       "      <td>550.00</td>\n",
       "      <td>552.10</td>\n",
       "      <td>563.64</td>\n",
       "      <td>326450</td>\n",
       "      <td>1.839993e+13</td>\n",
       "      <td>NaN</td>\n",
       "      <td>238952</td>\n",
       "      <td>0.7320</td>\n",
       "    </tr>\n",
       "    <tr>\n",
       "      <th>8</th>\n",
       "      <td>2008-06-05</td>\n",
       "      <td>BAJAJ-AUTO</td>\n",
       "      <td>EQ</td>\n",
       "      <td>552.10</td>\n",
       "      <td>553.00</td>\n",
       "      <td>588.80</td>\n",
       "      <td>532.40</td>\n",
       "      <td>548.00</td>\n",
       "      <td>562.40</td>\n",
       "      <td>560.70</td>\n",
       "      <td>238915</td>\n",
       "      <td>1.339603e+13</td>\n",
       "      <td>NaN</td>\n",
       "      <td>140638</td>\n",
       "      <td>0.5887</td>\n",
       "    </tr>\n",
       "    <tr>\n",
       "      <th>9</th>\n",
       "      <td>2008-06-06</td>\n",
       "      <td>BAJAJ-AUTO</td>\n",
       "      <td>EQ</td>\n",
       "      <td>562.40</td>\n",
       "      <td>567.00</td>\n",
       "      <td>574.70</td>\n",
       "      <td>544.40</td>\n",
       "      <td>572.00</td>\n",
       "      <td>568.80</td>\n",
       "      <td>564.38</td>\n",
       "      <td>73920</td>\n",
       "      <td>4.171903e+12</td>\n",
       "      <td>NaN</td>\n",
       "      <td>35676</td>\n",
       "      <td>0.4826</td>\n",
       "    </tr>\n",
       "  </tbody>\n",
       "</table>\n",
       "</div>"
      ],
      "text/plain": [
       "         Date      Symbol Series  Prev Close    Open    High     Low    Last  \\\n",
       "0  2008-05-26  BAJAJ-AUTO     EQ     2101.05  898.00  898.00  551.35  600.25   \n",
       "1  2008-05-27  BAJAJ-AUTO     EQ      604.75  624.70  639.00  580.30  595.50   \n",
       "2  2008-05-28  BAJAJ-AUTO     EQ      593.15  561.65  621.90  561.65  605.10   \n",
       "3  2008-05-29  BAJAJ-AUTO     EQ      608.15  619.40  619.40  576.00  600.00   \n",
       "4  2008-05-30  BAJAJ-AUTO     EQ      599.45  605.40  607.00  538.00  576.25   \n",
       "5  2008-06-02  BAJAJ-AUTO     EQ      571.70  605.50  615.00  570.70  573.00   \n",
       "6  2008-06-03  BAJAJ-AUTO     EQ      580.80  596.00  602.00  555.15  577.00   \n",
       "7  2008-06-04  BAJAJ-AUTO     EQ      579.70  597.85  597.85  547.50  550.00   \n",
       "8  2008-06-05  BAJAJ-AUTO     EQ      552.10  553.00  588.80  532.40  548.00   \n",
       "9  2008-06-06  BAJAJ-AUTO     EQ      562.40  567.00  574.70  544.40  572.00   \n",
       "\n",
       "    Close    VWAP   Volume      Turnover  Trades  Deliverable Volume  \\\n",
       "0  604.75  624.61  3972485  2.481245e+14     NaN             1202933   \n",
       "1  593.15  606.43  1751063  1.061901e+14     NaN              369389   \n",
       "2  608.15  608.75  1652355  1.005877e+14     NaN              898602   \n",
       "3  599.45  600.98   669269  4.022165e+13     NaN              449951   \n",
       "4  571.70  565.55  1262117  7.137937e+13     NaN              936432   \n",
       "5  580.80  598.30   206640  1.236326e+13     NaN               69415   \n",
       "6  579.70  575.83   157283  9.056802e+12     NaN              106984   \n",
       "7  552.10  563.64   326450  1.839993e+13     NaN              238952   \n",
       "8  562.40  560.70   238915  1.339603e+13     NaN              140638   \n",
       "9  568.80  564.38    73920  4.171903e+12     NaN               35676   \n",
       "\n",
       "   %Deliverble  \n",
       "0       0.3028  \n",
       "1       0.2110  \n",
       "2       0.5438  \n",
       "3       0.6723  \n",
       "4       0.7420  \n",
       "5       0.3359  \n",
       "6       0.6802  \n",
       "7       0.7320  \n",
       "8       0.5887  \n",
       "9       0.4826  "
      ]
     },
     "execution_count": 4,
     "metadata": {},
     "output_type": "execute_result"
    }
   ],
   "source": [
    "BA.head(10)"
   ]
  },
  {
   "cell_type": "code",
   "execution_count": 5,
   "metadata": {},
   "outputs": [
    {
     "data": {
      "text/plain": [
       "<matplotlib.axes._subplots.AxesSubplot at 0x7f8bb713df90>"
      ]
     },
     "execution_count": 5,
     "metadata": {},
     "output_type": "execute_result"
    },
    {
     "data": {
      "image/png": "[encoded data removed]",
      "text/plain": [
       "<Figure size 1008x504 with 1 Axes>"
      ]
     },
     "metadata": {
      "needs_background": "light"
     },
     "output_type": "display_data"
    }
   ],
   "source": [
    "BA.VWAP.plot(figsize=(14, 7))"
   ]
  },
  {
   "cell_type": "code",
   "execution_count": 14,
   "metadata": {},
   "outputs": [
    {
     "data": {
      "text/plain": [
       "<matplotlib.axes._subplots.AxesSubplot at 0x7f8bb5078950>"
      ]
     },
     "execution_count": 14,
     "metadata": {},
     "output_type": "execute_result"
    },
    {
     "data": {
      "image/png": "[encoded data removed]",
      "text/plain": [
       "<Figure size 1008x504 with 1 Axes>"
      ]
     },
     "metadata": {
      "needs_background": "light"
     },
     "output_type": "display_data"
    }
   ],
   "source": [
    "BA.VWAP[:1000].plot(figsize=(14, 7))"
   ]
  },
  {
   "cell_type": "markdown",
   "metadata": {},
   "source": [
    "## Variance"
   ]
  },
  {
   "cell_type": "markdown",
   "metadata": {},
   "source": [
    "$$var(x) = \\frac{\\sum{(x - \\bar x)^2}}{n}$$"
   ]
  },
  {
   "cell_type": "markdown",
   "metadata": {},
   "source": [
    "### Mean"
   ]
  },
  {
   "cell_type": "code",
   "execution_count": 6,
   "metadata": {},
   "outputs": [],
   "source": [
    "def mean(data):\n",
    "    mean, elements = 0, 0\n",
    "    for value in data:\n",
    "        elements += 1\n",
    "    mean = data.sum()\n",
    "    mean /= elements\n",
    "    return mean"
   ]
  },
  {
   "cell_type": "markdown",
   "metadata": {},
   "source": [
    "### Variance"
   ]
  },
  {
   "cell_type": "code",
   "execution_count": 7,
   "metadata": {},
   "outputs": [],
   "source": [
    "def variance(data):\n",
    "    v, elements = 0, 0\n",
    "    mean_data = mean(data)\n",
    "    for value in data:\n",
    "        elements += 1\n",
    "        z = ((value - mean_data)**2)\n",
    "        v += z\n",
    "    v /= elements\n",
    "    return v"
   ]
  },
  {
   "cell_type": "code",
   "execution_count": 8,
   "metadata": {},
   "outputs": [
    {
     "data": {
      "text/plain": [
       "2099.629831961591"
      ]
     },
     "execution_count": 8,
     "metadata": {},
     "output_type": "execute_result"
    }
   ],
   "source": [
    "mean(BA.VWAP)"
   ]
  },
  {
   "cell_type": "code",
   "execution_count": 9,
   "metadata": {},
   "outputs": [
    {
     "data": {
      "text/plain": [
       "541792.8092114602"
      ]
     },
     "execution_count": 9,
     "metadata": {},
     "output_type": "execute_result"
    }
   ],
   "source": [
    "variance(BA.VWAP)"
   ]
  },
  {
   "cell_type": "markdown",
   "metadata": {},
   "source": [
    "## Standard deviation"
   ]
  },
  {
   "cell_type": "markdown",
   "metadata": {},
   "source": [
    "$$\\sigma_x = \\sqrt{\\frac{\\sum{(x - \\bar x)^2}}{n}} = \\sqrt{var(x)}$$"
   ]
  },
  {
   "cell_type": "code",
   "execution_count": 10,
   "metadata": {},
   "outputs": [
    {
     "data": {
      "text/plain": [
       "736.0657641892199"
      ]
     },
     "execution_count": 10,
     "metadata": {},
     "output_type": "execute_result"
    }
   ],
   "source": [
    "sd_ba = variance(BA.VWAP) ** 0.5\n",
    "sd_ba"
   ]
  },
  {
   "cell_type": "markdown",
   "metadata": {},
   "source": [
    "## Covariance"
   ]
  },
  {
   "cell_type": "markdown",
   "metadata": {},
   "source": [
    "$$cov(x, y) = \\frac{\\sum{(x - \\bar x) \\cdot (y - \\bar y)}}{n}$$"
   ]
  },
  {
   "cell_type": "code",
   "execution_count": 18,
   "metadata": {},
   "outputs": [],
   "source": [
    "def covariance(data1, data2):\n",
    "    cov, elements = 0, 0\n",
    "    mean_data1 = mean(data1)\n",
    "    mean_data2 = mean(data2)\n",
    "    for value in data1:\n",
    "        elements += 1\n",
    "    for index in range(elements):\n",
    "        cov += ((data1[index] - mean_data1) * ((data2[index] - mean_data2)))\n",
    "    cov /= elements\n",
    "    return cov"
   ]
  },
  {
   "cell_type": "code",
   "execution_count": 11,
   "metadata": {},
   "outputs": [],
   "source": [
    "BA.Date = pd.to_datetime(BA.Date)\n",
    "index = 0\n",
    "days = []\n",
    "for date in BA.Date:\n",
    "    days.append((BA.Date[index] - BA.Date[0]).days)\n",
    "    index += 1"
   ]
  },
  {
   "cell_type": "code",
   "execution_count": 12,
   "metadata": {},
   "outputs": [],
   "source": [
    "BA.insert(1, \"Days\", days)"
   ]
  },
  {
   "cell_type": "code",
   "execution_count": 13,
   "metadata": {},
   "outputs": [
    {
     "data": {
      "text/html": [
       "<div>\n",
       "<style scoped>\n",
       "    .dataframe tbody tr th:only-of-type {\n",
       "        vertical-align: middle;\n",
       "    }\n",
       "\n",
       "    .dataframe tbody tr th {\n",
       "        vertical-align: top;\n",
       "    }\n",
       "\n",
       "    .dataframe thead th {\n",
       "        text-align: right;\n",
       "    }\n",
       "</style>\n",
       "<table border=\"1\" class=\"dataframe\">\n",
       "  <thead>\n",
       "    <tr style=\"text-align: right;\">\n",
       "      <th></th>\n",
       "      <th>Date</th>\n",
       "      <th>Days</th>\n",
       "      <th>Symbol</th>\n",
       "      <th>Series</th>\n",
       "      <th>Prev Close</th>\n",
       "      <th>Open</th>\n",
       "      <th>High</th>\n",
       "      <th>Low</th>\n",
       "      <th>Last</th>\n",
       "      <th>Close</th>\n",
       "      <th>VWAP</th>\n",
       "      <th>Volume</th>\n",
       "      <th>Turnover</th>\n",
       "      <th>Trades</th>\n",
       "      <th>Deliverable Volume</th>\n",
       "      <th>%Deliverble</th>\n",
       "    </tr>\n",
       "  </thead>\n",
       "  <tbody>\n",
       "    <tr>\n",
       "      <th>0</th>\n",
       "      <td>2008-05-26</td>\n",
       "      <td>0</td>\n",
       "      <td>BAJAJ-AUTO</td>\n",
       "      <td>EQ</td>\n",
       "      <td>2101.05</td>\n",
       "      <td>898.00</td>\n",
       "      <td>898.0</td>\n",
       "      <td>551.35</td>\n",
       "      <td>600.25</td>\n",
       "      <td>604.75</td>\n",
       "      <td>624.61</td>\n",
       "      <td>3972485</td>\n",
       "      <td>2.481245e+14</td>\n",
       "      <td>NaN</td>\n",
       "      <td>1202933</td>\n",
       "      <td>0.3028</td>\n",
       "    </tr>\n",
       "    <tr>\n",
       "      <th>1</th>\n",
       "      <td>2008-05-27</td>\n",
       "      <td>1</td>\n",
       "      <td>BAJAJ-AUTO</td>\n",
       "      <td>EQ</td>\n",
       "      <td>604.75</td>\n",
       "      <td>624.70</td>\n",
       "      <td>639.0</td>\n",
       "      <td>580.30</td>\n",
       "      <td>595.50</td>\n",
       "      <td>593.15</td>\n",
       "      <td>606.43</td>\n",
       "      <td>1751063</td>\n",
       "      <td>1.061901e+14</td>\n",
       "      <td>NaN</td>\n",
       "      <td>369389</td>\n",
       "      <td>0.2110</td>\n",
       "    </tr>\n",
       "    <tr>\n",
       "      <th>2</th>\n",
       "      <td>2008-05-28</td>\n",
       "      <td>2</td>\n",
       "      <td>BAJAJ-AUTO</td>\n",
       "      <td>EQ</td>\n",
       "      <td>593.15</td>\n",
       "      <td>561.65</td>\n",
       "      <td>621.9</td>\n",
       "      <td>561.65</td>\n",
       "      <td>605.10</td>\n",
       "      <td>608.15</td>\n",
       "      <td>608.75</td>\n",
       "      <td>1652355</td>\n",
       "      <td>1.005877e+14</td>\n",
       "      <td>NaN</td>\n",
       "      <td>898602</td>\n",
       "      <td>0.5438</td>\n",
       "    </tr>\n",
       "    <tr>\n",
       "      <th>3</th>\n",
       "      <td>2008-05-29</td>\n",
       "      <td>3</td>\n",
       "      <td>BAJAJ-AUTO</td>\n",
       "      <td>EQ</td>\n",
       "      <td>608.15</td>\n",
       "      <td>619.40</td>\n",
       "      <td>619.4</td>\n",
       "      <td>576.00</td>\n",
       "      <td>600.00</td>\n",
       "      <td>599.45</td>\n",
       "      <td>600.98</td>\n",
       "      <td>669269</td>\n",
       "      <td>4.022165e+13</td>\n",
       "      <td>NaN</td>\n",
       "      <td>449951</td>\n",
       "      <td>0.6723</td>\n",
       "    </tr>\n",
       "    <tr>\n",
       "      <th>4</th>\n",
       "      <td>2008-05-30</td>\n",
       "      <td>4</td>\n",
       "      <td>BAJAJ-AUTO</td>\n",
       "      <td>EQ</td>\n",
       "      <td>599.45</td>\n",
       "      <td>605.40</td>\n",
       "      <td>607.0</td>\n",
       "      <td>538.00</td>\n",
       "      <td>576.25</td>\n",
       "      <td>571.70</td>\n",
       "      <td>565.55</td>\n",
       "      <td>1262117</td>\n",
       "      <td>7.137937e+13</td>\n",
       "      <td>NaN</td>\n",
       "      <td>936432</td>\n",
       "      <td>0.7420</td>\n",
       "    </tr>\n",
       "  </tbody>\n",
       "</table>\n",
       "</div>"
      ],
      "text/plain": [
       "        Date  Days      Symbol Series  Prev Close    Open   High     Low  \\\n",
       "0 2008-05-26     0  BAJAJ-AUTO     EQ     2101.05  898.00  898.0  551.35   \n",
       "1 2008-05-27     1  BAJAJ-AUTO     EQ      604.75  624.70  639.0  580.30   \n",
       "2 2008-05-28     2  BAJAJ-AUTO     EQ      593.15  561.65  621.9  561.65   \n",
       "3 2008-05-29     3  BAJAJ-AUTO     EQ      608.15  619.40  619.4  576.00   \n",
       "4 2008-05-30     4  BAJAJ-AUTO     EQ      599.45  605.40  607.0  538.00   \n",
       "\n",
       "     Last   Close    VWAP   Volume      Turnover  Trades  Deliverable Volume  \\\n",
       "0  600.25  604.75  624.61  3972485  2.481245e+14     NaN             1202933   \n",
       "1  595.50  593.15  606.43  1751063  1.061901e+14     NaN              369389   \n",
       "2  605.10  608.15  608.75  1652355  1.005877e+14     NaN              898602   \n",
       "3  600.00  599.45  600.98   669269  4.022165e+13     NaN              449951   \n",
       "4  576.25  571.70  565.55  1262117  7.137937e+13     NaN              936432   \n",
       "\n",
       "   %Deliverble  \n",
       "0       0.3028  \n",
       "1       0.2110  \n",
       "2       0.5438  \n",
       "3       0.6723  \n",
       "4       0.7420  "
      ]
     },
     "execution_count": 13,
     "metadata": {},
     "output_type": "execute_result"
    }
   ],
   "source": [
    "BA.head()"
   ]
  },
  {
   "cell_type": "code",
   "execution_count": 19,
   "metadata": {},
   "outputs": [
    {
     "data": {
      "text/plain": [
       "819213.0482495737"
      ]
     },
     "execution_count": 19,
     "metadata": {},
     "output_type": "execute_result"
    }
   ],
   "source": [
    "covariance(BA.VWAP, BA.Days)"
   ]
  },
  {
   "cell_type": "markdown",
   "metadata": {},
   "source": [
    "## Correlation (r)"
   ]
  },
  {
   "cell_type": "markdown",
   "metadata": {},
   "source": [
    "$$r = \\frac{cov(x, y)}{\\sigma_x \\cdot \\sigma_y}$$"
   ]
  },
  {
   "cell_type": "code",
   "execution_count": 23,
   "metadata": {},
   "outputs": [],
   "source": [
    "def correl(data1, data2):\n",
    "    r = covariance(data1, data2)\n",
    "    r /= ((variance(data1) * variance(data2)) ** 0.5)\n",
    "    return r"
   ]
  },
  {
   "cell_type": "code",
   "execution_count": 24,
   "metadata": {},
   "outputs": [
    {
     "data": {
      "text/plain": [
       "0.898286487435951"
      ]
     },
     "execution_count": 24,
     "metadata": {},
     "output_type": "execute_result"
    }
   ],
   "source": [
    "correl(BA.VWAP, BA.Days)"
   ]
  }
 ],
 "metadata": {
  "kernelspec": {
   "display_name": "Python 3",
   "language": "python",
   "name": "python3"
  },
  "language_info": {
   "codemirror_mode": {
    "name": "ipython",
    "version": 3
   },
   "file_extension": ".py",
   "mimetype": "text/x-python",
   "name": "python",
   "nbconvert_exporter": "python",
   "pygments_lexer": "ipython3",
   "version": "3.7.6"
  }
 },
 "nbformat": 4,
 "nbformat_minor": 4
}
